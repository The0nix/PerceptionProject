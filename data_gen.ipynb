{
 "cells": [
  {
   "cell_type": "code",
   "execution_count": 2,
   "metadata": {},
   "outputs": [
    {
     "name": "stderr",
     "output_type": "stream",
     "text": [
      "No handles with labels found to put in legend.\n"
     ]
    }
   ],
   "source": [
    "import matplotlib as mpl\n",
    "from mpl_toolkits.mplot3d import Axes3D\n",
    "import numpy as np\n",
    "import matplotlib.pyplot as plt\n",
    "%matplotlib qt\n",
    "\n",
    "mpl.rcParams['legend.fontsize'] = 10\n",
    "\n",
    "fig = plt.figure()\n",
    "ax = fig.gca(projection='3d')\n",
    "alpha = np.linspace(0, 2 * np.pi, 50000)\n",
    "z = np.linspace(0.4, 0.9, 50000)\n",
    "r = z**2 + 0.5\n",
    "x = r * np.sin(alpha)\n",
    "y = r * np.cos(alpha)\n",
    "ax.scatter(x, y, z)\n",
    "ax.legend()\n",
    "\n",
    "plt.show()"
   ]
  },
  {
   "cell_type": "code",
   "execution_count": 60,
   "metadata": {},
   "outputs": [],
   "source": [
    "for i in range(46000):\n",
    "    alpha = np.delete(alpha, np.random.randint(0, 49999-i))\n",
    "    z = np.delete(z, np.random.randint(0, 49999-i))"
   ]
  },
  {
   "cell_type": "code",
   "execution_count": 61,
   "metadata": {},
   "outputs": [],
   "source": [
    "import matplotlib as mpl\n",
    "from mpl_toolkits.mplot3d import Axes3D\n",
    "import numpy as np\n",
    "import matplotlib.pyplot as plt\n",
    "\n",
    "mpl.rcParams['legend.fontsize'] = 10\n",
    "\n",
    "fig = plt.figure()\n",
    "ax = fig.gca(projection='3d')\n",
    "r = z**2 + 0.5\n",
    "x = r * np.sin(alpha)\n",
    "y = r * np.cos(alpha)\n",
    "ax.scatter(x, y, z, label='parametric curve')\n",
    "ax.legend()\n",
    "\n",
    "plt.show()"
   ]
  },
  {
   "cell_type": "code",
   "execution_count": 62,
   "metadata": {},
   "outputs": [],
   "source": [
    "imu_rate = 0.01"
   ]
  },
  {
   "cell_type": "code",
   "execution_count": 63,
   "metadata": {},
   "outputs": [],
   "source": [
    "v_x = (x[1:] - x[:-1])/imu_rate\n",
    "v_y = (y[1:] - y[:-1])/imu_rate\n",
    "v_z = (z[1:] - z[:-1])/imu_rate"
   ]
  },
  {
   "cell_type": "code",
   "execution_count": 64,
   "metadata": {},
   "outputs": [],
   "source": [
    "a_x = (v_x[1:] - v_x[:-1])/imu_rate\n",
    "a_y = (v_y[1:] - v_y[:-1])/imu_rate\n",
    "a_z = (v_z[1:] - v_z[:-1])/imu_rate"
   ]
  },
  {
   "cell_type": "code",
   "execution_count": 66,
   "metadata": {},
   "outputs": [
    {
     "data": {
      "text/plain": [
       "[<matplotlib.lines.Line2D at 0x7f036cb41910>]"
      ]
     },
     "execution_count": 66,
     "metadata": {},
     "output_type": "execute_result"
    }
   ],
   "source": [
    "plt.plot(a_x)"
   ]
  },
  {
   "cell_type": "code",
   "execution_count": 8,
   "metadata": {},
   "outputs": [],
   "source": [
    "def wrap_angle(angle, r1=-np.pi, r2=np.pi, wrapper=2 * np.pi):\n",
    "    \"\"\"\n",
    "    Wraps the given angle to the range [-pi, +pi].\n",
    "    :param angle: The angle (in rad) to wrap (can be unbounded).\n",
    "    :return: The wrapped angle (guaranteed to in [-pi, +pi]).\n",
    "    \"\"\"\n",
    "\n",
    "    while angle < r1:\n",
    "        angle += wrapper\n",
    "\n",
    "    while angle >= r2:\n",
    "        angle -= wrapper\n",
    "\n",
    "    return angle\n",
    "\n",
    "def C_b_v(angles):\n",
    "    \"\"\"\n",
    "    :param angles: Euler angles, np.ndarray, shape: (3,1)\n",
    "    :return: transition matrix from b-frame to v-frame, np.ndarray, shape: (3,3)\n",
    "    \"\"\"\n",
    "    phi, theta, psi = angles.flatten()\n",
    "\n",
    "    result = np.zeros(shape=(3, 3))\n",
    "    # first row\n",
    "    result[0, 0] = np.cos(psi) * np.cos(theta)\n",
    "    result[0, 1] = np.cos(psi) * np.sin(theta) * np.sin(phi) - np.sin(psi) * np.cos(phi)\n",
    "    result[0, 2] = np.cos(psi) * np.sin(theta) * np.cos(phi) + np.sin(psi) * np.sin(phi)\n",
    "\n",
    "    # second row\n",
    "    result[1, 0] = np.sin(psi) * np.cos(theta)\n",
    "    result[1, 1] = np.sin(psi) * np.sin(theta) * np.sin(phi) + np.cos(psi) * np.cos(phi)\n",
    "    result[1, 2] = np.sin(psi) * np.sin(theta) * np.cos(phi) - np.cos(psi) * np.sin(phi)\n",
    "\n",
    "    # third row\n",
    "    result[2, 0] = -np.sin(theta)\n",
    "    result[2, 1] = np.cos(theta) * np.sin(phi)\n",
    "    result[2, 2] = np.cos(theta) * np.cos(phi)\n",
    "\n",
    "    return result"
   ]
  },
  {
   "cell_type": "code",
   "execution_count": 9,
   "metadata": {},
   "outputs": [],
   "source": [
    "phi  = np.linspace(1/2 * np.pi, np.pi, 20000)\n",
    "theta = np.linspace(0, np.pi/2, 20000)\n",
    "psi = np.linspace(-4 * np.pi, 4 * np.pi, 20000)"
   ]
  },
  {
   "cell_type": "code",
   "execution_count": 10,
   "metadata": {},
   "outputs": [],
   "source": [
    "for i in range(16000):\n",
    "    phi = np.delete(phi, np.random.randint(0, 19999-i))\n",
    "    theta = np.delete(theta, np.random.randint(0, 19999-i))\n",
    "    psi = np.delete(psi, np.random.randint(0, 19999-i))"
   ]
  },
  {
   "cell_type": "code",
   "execution_count": 11,
   "metadata": {},
   "outputs": [],
   "source": [
    "omega_x = (phi[1:] - phi[:-1])/imu_rate\n",
    "omega_y = (theta[1:] - theta[:-1])/imu_rate\n",
    "omega_z = (psi[1:] - psi[:-1])/imu_rate"
   ]
  },
  {
   "cell_type": "code",
   "execution_count": 12,
   "metadata": {},
   "outputs": [],
   "source": [
    "psi_wrapped = []\n",
    "omega_x_wrapped = []\n",
    "omega_y_wrapped = []\n",
    "omega_z_wrapped = []\n",
    "omega_x_wrapped_noised = []\n",
    "omega_y_wrapped_noised = []\n",
    "omega_z_wrapped_noised = []\n",
    "for p in psi:\n",
    "    psi_wrapped.append(wrap_angle(p))\n",
    "for o_x, o_y, o_z in zip(omega_x, omega_y, omega_z):\n",
    "    omega_x_wrapped_noised.append(wrap_angle(o_x)+ 0.01*np.random.normal())\n",
    "    omega_y_wrapped_noised.append(wrap_angle(o_y)+ 0.01*np.random.normal())\n",
    "    omega_z_wrapped_noised.append(wrap_angle(o_z)+ 0.01*np.random.normal())\n",
    "    omega_x_wrapped.append(wrap_angle(o_x))\n",
    "    omega_y_wrapped.append(wrap_angle(o_y))\n",
    "    omega_z_wrapped.append(wrap_angle(o_z))"
   ]
  },
  {
   "cell_type": "code",
   "execution_count": 13,
   "metadata": {},
   "outputs": [],
   "source": [
    "psi = np.array(psi_wrapped)\n",
    "omega_x_noised = np.array(omega_x_wrapped_noised)\n",
    "omega_y_noised = np.array(omega_y_wrapped_noised)\n",
    "omega_z_noised = np.array(omega_z_wrapped_noised)"
   ]
  },
  {
   "cell_type": "code",
   "execution_count": 14,
   "metadata": {},
   "outputs": [],
   "source": [
    "omega_x_clear = np.array(omega_x_wrapped)\n",
    "omega_y_clear = np.array(omega_y_wrapped)\n",
    "omega_z_clear = np.array(omega_z_wrapped)"
   ]
  },
  {
   "cell_type": "code",
   "execution_count": 15,
   "metadata": {},
   "outputs": [],
   "source": [
    "rot_matrices = []\n",
    "rot_matrices_noised = []\n",
    "for ph, th, ps in zip(phi,theta,psi):\n",
    "    ph_ = ph + 0.01*np.random.normal()\n",
    "    th_ = th + 0.01*np.random.normal()\n",
    "    ps_ = ps + 0.01*np.random.normal()\n",
    "    rot_matrices_noised.append(C_b_v(np.array([ph_,th_,ps_])))\n",
    "    rot_matrices.append(C_b_v(np.array([ph,th,ps])))\n",
    "    \n",
    "rot_matrices = np.array(rot_matrices)\n",
    "rot_matrices_noised = np.array(rot_matrices_noised)"
   ]
  },
  {
   "cell_type": "code",
   "execution_count": 16,
   "metadata": {},
   "outputs": [],
   "source": [
    "tvecs = np.vstack((x,y,z)).T"
   ]
  },
  {
   "cell_type": "code",
   "execution_count": 17,
   "metadata": {},
   "outputs": [],
   "source": [
    "tvecs_noised = []\n",
    "for tvec in tvecs:\n",
    "    for element in tvec:\n",
    "        tvecs_noised.append(element+0.01*np.random.normal())\n",
    "        \n",
    "tvecs_noised = np.array(tvecs_noised)"
   ]
  },
  {
   "cell_type": "code",
   "execution_count": 18,
   "metadata": {},
   "outputs": [],
   "source": [
    "tvecs_noised = tvecs_noised.reshape((4000,3))"
   ]
  },
  {
   "cell_type": "code",
   "execution_count": 19,
   "metadata": {},
   "outputs": [],
   "source": [
    "t = np.linspace(0,40,4000)"
   ]
  },
  {
   "cell_type": "code",
   "execution_count": 20,
   "metadata": {},
   "outputs": [],
   "source": [
    "t_gyro = t[1:]\n",
    "t_acc = t[2:]"
   ]
  },
  {
   "cell_type": "code",
   "execution_count": 21,
   "metadata": {},
   "outputs": [],
   "source": [
    "gyro_noised = np.vstack((t_gyro,omega_x_noised, omega_y_noised, omega_z_noised)).T\n",
    "gyro_clear = np.vstack((t_gyro,omega_x_clear, omega_y_clear, omega_z_clear)).T\n",
    "gyro_noised = gyro_noised[1:,:]\n",
    "gyro_clear = gyro_clear[1:,:]"
   ]
  },
  {
   "cell_type": "code",
   "execution_count": 22,
   "metadata": {},
   "outputs": [],
   "source": [
    "acc_v = np.vstack((t_acc,a_x,a_y,a_z)).T"
   ]
  },
  {
   "cell_type": "code",
   "execution_count": 23,
   "metadata": {},
   "outputs": [
    {
     "data": {
      "text/plain": [
       "[<matplotlib.lines.Line2D at 0x7f0371a21710>]"
      ]
     },
     "execution_count": 23,
     "metadata": {},
     "output_type": "execute_result"
    },
    {
     "data": {
      "image/png": "[encoded data removed]",
      "text/plain": [
       "<Figure size 432x288 with 1 Axes>"
      ]
     },
     "metadata": {
      "needs_background": "light"
     },
     "output_type": "display_data"
    }
   ],
   "source": [
    "plt.plot(acc_v[:,3])"
   ]
  },
  {
   "cell_type": "code",
   "execution_count": 24,
   "metadata": {},
   "outputs": [
    {
     "data": {
      "text/plain": [
       "(3998, 4)"
      ]
     },
     "execution_count": 24,
     "metadata": {},
     "output_type": "execute_result"
    }
   ],
   "source": [
    "acc_v.shape"
   ]
  },
  {
   "cell_type": "code",
   "execution_count": 25,
   "metadata": {},
   "outputs": [],
   "source": [
    "acc_b = []\n",
    "for acc, rot in zip(acc_v, rot_matrices[2:]):\n",
    "    acc_b.append(rot.T@acc[1:])\n",
    "acc_b = np.array(acc_b)"
   ]
  },
  {
   "cell_type": "code",
   "execution_count": 26,
   "metadata": {},
   "outputs": [],
   "source": [
    "acc_b_noised = []\n",
    "for ac in acc_b:\n",
    "    acc_b_noised.append(ac + np.array([0.01*np.random.normal(),0.01*np.random.normal(),0.01*np.random.normal()]))\n",
    "acc_b_noised = np.array(acc_b_noised)\n",
    "acc_b_noised = np.column_stack((t_acc, acc_b_noised))\n",
    "acc_b = np.column_stack((t_acc, acc_b))"
   ]
  },
  {
   "cell_type": "code",
   "execution_count": 27,
   "metadata": {},
   "outputs": [],
   "source": [
    "tvecs_noised = tvecs_noised[::4]\n",
    "rot_matrices_noised = rot_matrices_noised[::4]\n",
    "t_visual = t[::4]"
   ]
  },
  {
   "cell_type": "code",
   "execution_count": 28,
   "metadata": {},
   "outputs": [],
   "source": [
    "tvecs_noised = tvecs_noised[1:]\n",
    "rot_matrices_noised = rot_matrices_noised[1:]\n",
    "t_visual = t_visual[1:]"
   ]
  },
  {
   "cell_type": "code",
   "execution_count": 29,
   "metadata": {},
   "outputs": [],
   "source": [
    "tvecs = tvecs[4:]\n",
    "rot_matrices = rot_matrices[4:]\n",
    "t = t[4:]"
   ]
  },
  {
   "cell_type": "code",
   "execution_count": 30,
   "metadata": {},
   "outputs": [],
   "source": [
    "acc_b_noised = acc_b_noised[2:]\n",
    "gyro_noised = gyro_noised[2:]\n",
    "gyro_clear = gyro_clear[2:]"
   ]
  },
  {
   "cell_type": "code",
   "execution_count": 31,
   "metadata": {},
   "outputs": [],
   "source": [
    "acc_b = acc_b[2:]"
   ]
  },
  {
   "cell_type": "code",
   "execution_count": 32,
   "metadata": {},
   "outputs": [],
   "source": [
    "a1 = np.ones(t_visual.shape[0])\n",
    "b1 = np.ones(tvecs.shape[0])\n",
    "c1 = np.ones(acc_b_noised.shape[0])"
   ]
  },
  {
   "cell_type": "code",
   "execution_count": 33,
   "metadata": {},
   "outputs": [
    {
     "data": {
      "image/png": "[encoded data removed]",
      "text/plain": [
       "<Figure size 720x720 with 1 Axes>"
      ]
     },
     "metadata": {
      "needs_background": "light"
     },
     "output_type": "display_data"
    }
   ],
   "source": [
    "plt.figure(figsize=(10,10))\n",
    "plt.scatter(t_visual, a1, s = 100)\n",
    "plt.scatter(t, b1)\n",
    "plt.scatter(acc_b_noised[:,0], c1, alpha = 0.5)\n",
    "plt.show()"
   ]
  },
  {
   "cell_type": "code",
   "execution_count": 72,
   "metadata": {},
   "outputs": [
    {
     "data": {
      "text/plain": [
       "[<matplotlib.lines.Line2D at 0x7f036c4ea250>,\n",
       " <matplotlib.lines.Line2D at 0x7f036c4ea450>,\n",
       " <matplotlib.lines.Line2D at 0x7f036c4ea610>]"
      ]
     },
     "execution_count": 72,
     "metadata": {},
     "output_type": "execute_result"
    }
   ],
   "source": [
    "plt.plot(acc_v[:,1:])"
   ]
  },
  {
   "cell_type": "code",
   "execution_count": 35,
   "metadata": {},
   "outputs": [
    {
     "data": {
      "text/plain": [
       "(3996, 4)"
      ]
     },
     "execution_count": 35,
     "metadata": {},
     "output_type": "execute_result"
    }
   ],
   "source": [
    "tvec.shape"
   ]
  },
  {
   "cell_type": "code",
   "execution_count": 36,
   "metadata": {},
   "outputs": [],
   "source": [
    "np.savez(\"dataset_simulation_noised\", gyro = gyro_noised, acc_linear = acc_b_noised, visual_rot = rot_matrices_noised, visual_tvec = tvecs_noised, visual_time = t_visual)"
   ]
  },
  {
   "cell_type": "code",
   "execution_count": 37,
   "metadata": {},
   "outputs": [],
   "source": [
    "np.savez(\"dataset_simulation_clear\", gyro = gyro_clear, acc_linear = acc_b, visual_rot = rot_matrices[::4], visual_tvec = tvecs[::4], visual_time = t_visual)"
   ]
  },
  {
   "cell_type": "code",
   "execution_count": 38,
   "metadata": {},
   "outputs": [],
   "source": [
    "np.savez(\"dataset_simulation_gt\", rot_gt = rot_matrices, tvec_gt = tvecs, time_gt = t)"
   ]
  }
 ],
 "metadata": {
  "kernelspec": {
   "display_name": "Python 3",
   "language": "python",
   "name": "python3"
  },
  "language_info": {
   "codemirror_mode": {
    "name": "ipython",
    "version": 3
   },
   "file_extension": ".py",
   "mimetype": "text/x-python",
   "name": "python",
   "nbconvert_exporter": "python",
   "pygments_lexer": "ipython3",
   "version": "3.7.6"
  }
 },
 "nbformat": 4,
 "nbformat_minor": 4
}
